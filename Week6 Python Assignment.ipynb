{
 "metadata": {
  "name": "",
  "signature": "sha256:4cb7a56ec73bad1fa2f48fbba0972ecb5025b05cc23f4f141968eea2ae5242f7"
 },
 "nbformat": 3,
 "nbformat_minor": 0,
 "worksheets": [
  {
   "cells": [
    {
     "cell_type": "markdown",
     "metadata": {},
     "source": [
      "Week 6 Python Assignment"
     ]
    },
    {
     "cell_type": "code",
     "collapsed": false,
     "input": [
      "import re\n",
      "text = open('C:\\Users\\Sandra\\Documents\\CUNY_MSDA application\\Programming bridge\\Week6\\week6 P A.txt')\n",
      "for line in text:\n",
      "    match = re.search('([0-9]) ([A-Za-z ]+) {1,2}\\\\| ([A-Z] [0-9]) \\\\| ([A-Z] [0-9]) \\\\| ([A-Z] [0-9])', line)\n",
      "    if match:\n",
      "        print 'Rank: ', match.group(1) \n",
      "        print 'Country: ', match.group(2)\n",
      "        print 'Results: ' \n",
      "        print match.group(3)\n",
      "        print match.group(4)\n",
      "        print match.group(5)"
     ],
     "language": "python",
     "metadata": {},
     "outputs": [
      {
       "output_type": "stream",
       "stream": "stdout",
       "text": [
        "Rank:  1\n",
        "Country:  Germany \n",
        "Results: \n",
        "W 3\n",
        "T 4\n",
        "W 2\n",
        "Rank:  2\n",
        "Country:  United States\n",
        "Results: \n",
        "W 4\n",
        "T 3\n",
        "L 1\n",
        "Rank:  3\n",
        "Country:  Portugal\n",
        "Results: \n",
        "L 1\n",
        "T 2\n",
        "W 4\n",
        "Rank:  4\n",
        "Country:  Ghana\n",
        "Results: \n",
        "L 2\n",
        "T 1\n",
        "L 3\n"
       ]
      }
     ],
     "prompt_number": 1
    },
    {
     "cell_type": "markdown",
     "metadata": {},
     "source": [
      "Challenge: four rounds were created for each country in the source file. (It seems working fine, but I still have problem on printing the United State in the same line)"
     ]
    },
    {
     "cell_type": "code",
     "collapsed": false,
     "input": [
      "text = open('C:\\Users\\Sandra\\Documents\\CUNY_MSDA application\\Programming bridge\\Week6\\week6 P A.txt')\n",
      "for line in text:\n",
      "    line=line.strip()\n",
      "    words = line.split('|')\n",
      "    rk_c = words[0].split()\n",
      "    print 'Rank:', rk_c[0]\n",
      "    print 'Country: ',\n",
      "    for c in rk_c[1:]:\n",
      "        print c.strip()\n",
      "    print 'Results: '\n",
      "    for word in words[1:]:\n",
      "        print word.strip() "
     ],
     "language": "python",
     "metadata": {},
     "outputs": [
      {
       "output_type": "stream",
       "stream": "stdout",
       "text": [
        "Rank: 1\n",
        "Country:  Germany\n",
        "Results: \n",
        "W 3\n",
        "T 4\n",
        "W 2\n",
        "W 7\n",
        "\n",
        "Rank: 2\n",
        "Country:  United\n",
        "States\n",
        "Results: \n",
        "W 4\n",
        "T 3\n",
        "L 1\n",
        "W 2\n",
        "\n",
        "Rank: 3\n",
        "Country:  Portugal\n",
        "Results: \n",
        "L 1\n",
        "T 2\n",
        "W 4\n",
        "T 1\n",
        "\n",
        "Rank: 4\n",
        "Country:  Ghana\n",
        "Results: \n",
        "L 2\n",
        "T 1\n",
        "L 3\n",
        "T 2\n",
        "\n"
       ]
      }
     ],
     "prompt_number": 2
    },
    {
     "cell_type": "code",
     "collapsed": false,
     "input": [],
     "language": "python",
     "metadata": {},
     "outputs": []
    }
   ],
   "metadata": {}
  }
 ]
}