{
 "metadata": {
  "name": "",
  "signature": "sha256:df524e3afbf3152cc8cfd42a9cb1e1cfece49bb39e747c306eb6c952fb246543"
 },
 "nbformat": 3,
 "nbformat_minor": 0,
 "worksheets": [
  {
   "cells": [
    {
     "cell_type": "code",
     "collapsed": false,
     "input": [
      "movie = open (\"C:\\Users\\Sandra\\Documents\\CUNY_MSDA application\\Programming bridge\\Week5\\ml-100k\\u.item\")"
     ],
     "language": "python",
     "metadata": {},
     "outputs": [],
     "prompt_number": 1
    },
    {
     "cell_type": "code",
     "collapsed": false,
     "input": [
      "for line in movie:\n",
      "    words = line.split(\"|\")\n",
      "    if len(words) == 0: continue\n",
      "    for word in words:\n",
      "        if word.find('(1959)') == -1: \n",
      "            continue\n",
      "        if word.find('//') >0: \n",
      "            continue\n",
      "        print word"
     ],
     "language": "python",
     "metadata": {},
     "outputs": [
      {
       "output_type": "stream",
       "stream": "stdout",
       "text": [
        "North by Northwest (1959)\n",
        "Some Like It Hot (1959)\n",
        "Ben-Hur (1959)\n",
        "Shaggy Dog, The (1959)\n",
        "World of Apu, The (Apur Sansar) (1959)\n"
       ]
      }
     ],
     "prompt_number": 2
    }
   ],
   "metadata": {}
  }
 ]
}