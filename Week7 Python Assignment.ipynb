{
 "metadata": {
  "name": "",
  "signature": "sha256:d5bf9e0064425cc2ed660e899b9e4c371759ed10c9a0420521fb6b8fd1591f32"
 },
 "nbformat": 3,
 "nbformat_minor": 0,
 "worksheets": [
  {
   "cells": [
    {
     "cell_type": "code",
     "collapsed": false,
     "input": [
      "from bs4 import BeautifulSoup\n",
      "import requests\n",
      "url = 'http://www.numpy.org/'\n",
      "r  = requests.get(url)\n",
      "data = r.text\n",
      "soup = BeautifulSoup(data)\n",
      "for link in soup.find_all('a'):\n",
      "    http = link.get('href')\n",
      "    if http.startswith('http'):\n",
      "        print http"
     ],
     "language": "python",
     "metadata": {},
     "outputs": [
      {
       "output_type": "stream",
       "stream": "stdout",
       "text": [
        "http://scipy.org/\n",
        "http://www.scipy.org/scipylib/download.html\n",
        "http://www.scipy.org/Installing_SciPy\n",
        "http://docs.scipy.org/doc/\n",
        "http://www.scipy.org/Tentative_NumPy_Tutorial\n",
        "http://www.scipy.org/NumPy_for_Matlab_Users\n",
        "http://www.scipy.org/Numpy_Functions_by_Category\n",
        "http://www.scipy.org/Mailing_Lists\n",
        "http://sourceforge.net/projects/numpy/\n",
        "http://www.scipy.org/\n",
        "http://www.scipy.org/Topical_Software#head-7153b42ac4ea517c7d99ec4f4453555b2302a1f8\n",
        "http://sphinx.pocoo.org/\n"
       ]
      }
     ],
     "prompt_number": 1
    },
    {
     "cell_type": "code",
     "collapsed": false,
     "input": [],
     "language": "python",
     "metadata": {},
     "outputs": []
    }
   ],
   "metadata": {}
  }
 ]
}